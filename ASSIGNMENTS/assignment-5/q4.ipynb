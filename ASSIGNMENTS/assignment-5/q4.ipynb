{
 "cells": [
  {
   "cell_type": "code",
   "execution_count": 1,
   "id": "e688e142",
   "metadata": {},
   "outputs": [],
   "source": [
    "#!pip install torch torchvision wandb\n"
   ]
  },
  {
   "cell_type": "code",
   "execution_count": 2,
   "id": "c1c3fd82",
   "metadata": {},
   "outputs": [
    {
     "name": "stderr",
     "output_type": "stream",
     "text": [
      "\u001b[34m\u001b[1mwandb\u001b[0m: Currently logged in as: \u001b[33m142201020\u001b[0m (\u001b[33m142201020-indian-institute-of-technology-palakkad\u001b[0m) to \u001b[32mhttps://api.wandb.ai\u001b[0m. Use \u001b[1m`wandb login --relogin`\u001b[0m to force relogin\n",
      "\u001b[34m\u001b[1mwandb\u001b[0m: \u001b[33mWARNING\u001b[0m If you're specifying your api key in code, ensure this code is not shared publicly.\n",
      "\u001b[34m\u001b[1mwandb\u001b[0m: \u001b[33mWARNING\u001b[0m Consider setting the WANDB_API_KEY environment variable, or running `wandb login` from the command line.\n",
      "\u001b[34m\u001b[1mwandb\u001b[0m: Appending key for api.wandb.ai to your netrc file: /home/hemanth/.netrc\n"
     ]
    },
    {
     "data": {
      "text/plain": [
       "True"
      ]
     },
     "execution_count": 2,
     "metadata": {},
     "output_type": "execute_result"
    }
   ],
   "source": [
    "import wandb\n",
    "\n",
    "# Option 1: Interactive login (prompts for API key)\n",
    "wandb.login()\n",
    "\n",
    "# Option 2: Programmatic login using API key\n",
    "# Replace 'your-api-key' with your actual W&B API key\n",
    "wandb.login(key='669c0c4ffcd8985791f84ea79983b116c50b2624')\n"
   ]
  },
  {
   "cell_type": "code",
   "execution_count": 3,
   "id": "4951fde6",
   "metadata": {},
   "outputs": [],
   "source": [
    "import torch\n",
    "import torch.nn as nn\n",
    "import torch.optim as optim\n",
    "import torchvision\n",
    "import torchvision.transforms as transforms\n"
   ]
  },
  {
   "cell_type": "code",
   "execution_count": 4,
   "id": "693a9ed2",
   "metadata": {},
   "outputs": [],
   "source": [
    "from torch.utils.data import Subset\n",
    "import random\n",
    "\n",
    "def get_cifar_loaders(dataset_name, batch_size=128, subset_fraction=0.2, seed=42):\n",
    "    \"\"\"\n",
    "    subset_fraction: float between 0 and 1, e.g., 0.2 = use 20% of the dataset\n",
    "    \"\"\"\n",
    "    transform = transforms.Compose([\n",
    "        transforms.ToTensor(),\n",
    "        transforms.Normalize((0.5,0.5,0.5), (0.5,0.5,0.5))\n",
    "    ])\n",
    "    \n",
    "    if dataset_name == \"CIFAR10\":\n",
    "        full_trainset = torchvision.datasets.CIFAR10(root='./data', train=True, download=True, transform=transform)\n",
    "        full_testset  = torchvision.datasets.CIFAR10(root='./data', train=False, download=True, transform=transform)\n",
    "        num_classes = 10\n",
    "    elif dataset_name == \"CIFAR100\":\n",
    "        full_trainset = torchvision.datasets.CIFAR100(root='./data', train=True, download=True, transform=transform)\n",
    "        full_testset  = torchvision.datasets.CIFAR100(root='./data', train=False, download=True, transform=transform)\n",
    "        num_classes = 100\n",
    "    else:\n",
    "        raise ValueError(\"Unsupported dataset\")\n",
    "    \n",
    "    # Determine subset sizes\n",
    "    train_size = int(len(full_trainset) * subset_fraction)\n",
    "    test_size  = int(len(full_testset) * subset_fraction)\n",
    "    \n",
    "    random.seed(seed)\n",
    "    train_indices = random.sample(range(len(full_trainset)), train_size)\n",
    "    test_indices  = random.sample(range(len(full_testset)), test_size)\n",
    "    \n",
    "    trainset = Subset(full_trainset, train_indices)\n",
    "    testset  = Subset(full_testset, test_indices)\n",
    "    \n",
    "    trainloader = torch.utils.data.DataLoader(trainset, batch_size=batch_size, shuffle=True)\n",
    "    testloader  = torch.utils.data.DataLoader(testset, batch_size=batch_size, shuffle=False)\n",
    "    \n",
    "    return trainloader, testloader, num_classes\n"
   ]
  },
  {
   "cell_type": "code",
   "execution_count": 5,
   "id": "e54eddb3",
   "metadata": {},
   "outputs": [],
   "source": [
    "class SimpleCNN(nn.Module):\n",
    "    def __init__(self, num_classes):\n",
    "        super(SimpleCNN, self).__init__()\n",
    "        self.features = nn.Sequential(\n",
    "            nn.Conv2d(3, 32, 3, padding=1),\n",
    "            nn.ReLU(),\n",
    "            nn.MaxPool2d(2),\n",
    "            nn.Conv2d(32, 64, 3, padding=1),\n",
    "            nn.ReLU(),\n",
    "            nn.MaxPool2d(2)\n",
    "        )\n",
    "        self.classifier = nn.Sequential(\n",
    "            nn.Flatten(),\n",
    "            nn.Linear(64*8*8, 256),\n",
    "            nn.ReLU(),\n",
    "            nn.Linear(256, num_classes)\n",
    "        )\n",
    "    \n",
    "    def forward(self, x):\n",
    "        x = self.features(x)\n",
    "        x = self.classifier(x)\n",
    "        return x\n"
   ]
  },
  {
   "cell_type": "code",
   "execution_count": 6,
   "id": "9e2e39df",
   "metadata": {},
   "outputs": [],
   "source": [
    "def train_model(model, trainloader, criterion, optimizer, device):\n",
    "    model.train()\n",
    "    running_loss = 0.0\n",
    "    correct = 0\n",
    "    total = 0\n",
    "    for inputs, labels in trainloader:\n",
    "        inputs, labels = inputs.to(device), labels.to(device)\n",
    "        optimizer.zero_grad()\n",
    "        outputs = model(inputs)\n",
    "        loss = criterion(outputs, labels)\n",
    "        loss.backward()\n",
    "        optimizer.step()\n",
    "        \n",
    "        running_loss += loss.item() * inputs.size(0)\n",
    "        _, predicted = outputs.max(1)\n",
    "        total += labels.size(0)\n",
    "        correct += predicted.eq(labels).sum().item()\n",
    "    return running_loss/total, correct/total\n",
    "\n",
    "def evaluate_model(model, testloader, criterion, device):\n",
    "    model.eval()\n",
    "    running_loss = 0.0\n",
    "    correct = 0\n",
    "    total = 0\n",
    "    with torch.no_grad():\n",
    "        for inputs, labels in testloader:\n",
    "            inputs, labels = inputs.to(device), labels.to(device)\n",
    "            outputs = model(inputs)\n",
    "            loss = criterion(outputs, labels)\n",
    "            \n",
    "            running_loss += loss.item() * inputs.size(0)\n",
    "            _, predicted = outputs.max(1)\n",
    "            total += labels.size(0)\n",
    "            correct += predicted.eq(labels).sum().item()\n",
    "    return running_loss/total, correct/total\n"
   ]
  },
  {
   "cell_type": "code",
   "execution_count": 7,
   "id": "ef0f947a",
   "metadata": {},
   "outputs": [],
   "source": [
    "device = \"cuda\" if torch.cuda.is_available() else \"cpu\"\n",
    "\n",
    "def sequential_training(sequence, epochs=100):\n",
    "    for i, dataset_name in enumerate(sequence):\n",
    "        run_name = f\"seq_{'_'.join(sequence)}_part{i+1}_{dataset_name}\"\n",
    "        wandb.init(project=\"CIFAR-sequential\", name=run_name, config={\"dataset\": dataset_name, \"epochs\": epochs})\n",
    "        \n",
    "        trainloader, testloader, num_classes = get_cifar_loaders(dataset_name)\n",
    "        model = SimpleCNN(num_classes=num_classes).to(device)\n",
    "        criterion = nn.CrossEntropyLoss()\n",
    "        optimizer = optim.Adam(model.parameters(), lr=0.001)\n",
    "        \n",
    "        for epoch in range(epochs):\n",
    "            train_loss, train_acc = train_model(model, trainloader, criterion, optimizer, device)\n",
    "            test_loss, test_acc   = evaluate_model(model, testloader, criterion, device)\n",
    "            \n",
    "            # Log to W&B\n",
    "            wandb.log({\n",
    "                \"epoch\": epoch+1,\n",
    "                \"train_loss\": train_loss,\n",
    "                \"train_acc\": train_acc,\n",
    "                \"test_loss\": test_loss,\n",
    "                \"test_acc\": test_acc\n",
    "            })\n",
    "            print(f\"[{dataset_name}] Epoch {epoch+1}/{epochs} - Train Acc: {train_acc:.4f}, Test Acc: {test_acc:.4f}\")\n",
    "        \n",
    "        wandb.finish()\n"
   ]
  },
  {
   "cell_type": "code",
   "execution_count": 8,
   "id": "411ad2d5",
   "metadata": {},
   "outputs": [
    {
     "data": {
      "text/html": [],
      "text/plain": [
       "<IPython.core.display.HTML object>"
      ]
     },
     "metadata": {},
     "output_type": "display_data"
    },
    {
     "data": {
      "text/html": [
       "Tracking run with wandb version 0.22.2"
      ],
      "text/plain": [
       "<IPython.core.display.HTML object>"
      ]
     },
     "metadata": {},
     "output_type": "display_data"
    },
    {
     "data": {
      "text/html": [
       "Run data is saved locally in <code>/home/hemanth/Desktop/HEMANTH/SEM-7/MLOPS/LAB5/wandb/run-20251013_200209-6egjw1wk</code>"
      ],
      "text/plain": [
       "<IPython.core.display.HTML object>"
      ]
     },
     "metadata": {},
     "output_type": "display_data"
    },
    {
     "data": {
      "text/html": [
       "Syncing run <strong><a href='https://wandb.ai/142201020-indian-institute-of-technology-palakkad/CIFAR-sequential/runs/6egjw1wk' target=\"_blank\">seq_CIFAR100_CIFAR10_part1_CIFAR100</a></strong> to <a href='https://wandb.ai/142201020-indian-institute-of-technology-palakkad/CIFAR-sequential' target=\"_blank\">Weights & Biases</a> (<a href='https://wandb.me/developer-guide' target=\"_blank\">docs</a>)<br>"
      ],
      "text/plain": [
       "<IPython.core.display.HTML object>"
      ]
     },
     "metadata": {},
     "output_type": "display_data"
    },
    {
     "data": {
      "text/html": [
       " View project at <a href='https://wandb.ai/142201020-indian-institute-of-technology-palakkad/CIFAR-sequential' target=\"_blank\">https://wandb.ai/142201020-indian-institute-of-technology-palakkad/CIFAR-sequential</a>"
      ],
      "text/plain": [
       "<IPython.core.display.HTML object>"
      ]
     },
     "metadata": {},
     "output_type": "display_data"
    },
    {
     "data": {
      "text/html": [
       " View run at <a href='https://wandb.ai/142201020-indian-institute-of-technology-palakkad/CIFAR-sequential/runs/6egjw1wk' target=\"_blank\">https://wandb.ai/142201020-indian-institute-of-technology-palakkad/CIFAR-sequential/runs/6egjw1wk</a>"
      ],
      "text/plain": [
       "<IPython.core.display.HTML object>"
      ]
     },
     "metadata": {},
     "output_type": "display_data"
    },
    {
     "name": "stdout",
     "output_type": "stream",
     "text": [
      "[CIFAR100] Epoch 1/100 - Train Acc: 0.0666, Test Acc: 0.1210\n",
      "[CIFAR100] Epoch 2/100 - Train Acc: 0.1601, Test Acc: 0.1620\n",
      "[CIFAR100] Epoch 3/100 - Train Acc: 0.2269, Test Acc: 0.1900\n",
      "[CIFAR100] Epoch 4/100 - Train Acc: 0.2901, Test Acc: 0.2265\n",
      "[CIFAR100] Epoch 5/100 - Train Acc: 0.3531, Test Acc: 0.2515\n",
      "[CIFAR100] Epoch 6/100 - Train Acc: 0.4190, Test Acc: 0.2470\n",
      "[CIFAR100] Epoch 7/100 - Train Acc: 0.4847, Test Acc: 0.2625\n",
      "[CIFAR100] Epoch 8/100 - Train Acc: 0.5470, Test Acc: 0.2475\n",
      "[CIFAR100] Epoch 9/100 - Train Acc: 0.6175, Test Acc: 0.2505\n",
      "[CIFAR100] Epoch 10/100 - Train Acc: 0.6892, Test Acc: 0.2455\n",
      "[CIFAR100] Epoch 11/100 - Train Acc: 0.7582, Test Acc: 0.2575\n",
      "[CIFAR100] Epoch 12/100 - Train Acc: 0.8246, Test Acc: 0.2445\n",
      "[CIFAR100] Epoch 13/100 - Train Acc: 0.8796, Test Acc: 0.2430\n",
      "[CIFAR100] Epoch 14/100 - Train Acc: 0.9267, Test Acc: 0.2515\n",
      "[CIFAR100] Epoch 15/100 - Train Acc: 0.9456, Test Acc: 0.2355\n",
      "[CIFAR100] Epoch 16/100 - Train Acc: 0.9608, Test Acc: 0.2525\n",
      "[CIFAR100] Epoch 17/100 - Train Acc: 0.9767, Test Acc: 0.2450\n",
      "[CIFAR100] Epoch 18/100 - Train Acc: 0.9884, Test Acc: 0.2470\n",
      "[CIFAR100] Epoch 19/100 - Train Acc: 0.9934, Test Acc: 0.2485\n",
      "[CIFAR100] Epoch 20/100 - Train Acc: 0.9948, Test Acc: 0.2525\n",
      "[CIFAR100] Epoch 21/100 - Train Acc: 0.9976, Test Acc: 0.2470\n",
      "[CIFAR100] Epoch 22/100 - Train Acc: 0.9996, Test Acc: 0.2505\n",
      "[CIFAR100] Epoch 23/100 - Train Acc: 0.9989, Test Acc: 0.2500\n",
      "[CIFAR100] Epoch 24/100 - Train Acc: 0.9998, Test Acc: 0.2495\n",
      "[CIFAR100] Epoch 25/100 - Train Acc: 0.9999, Test Acc: 0.2515\n",
      "[CIFAR100] Epoch 26/100 - Train Acc: 0.9999, Test Acc: 0.2505\n",
      "[CIFAR100] Epoch 27/100 - Train Acc: 0.9999, Test Acc: 0.2575\n",
      "[CIFAR100] Epoch 28/100 - Train Acc: 0.9978, Test Acc: 0.2640\n",
      "[CIFAR100] Epoch 29/100 - Train Acc: 0.9877, Test Acc: 0.2360\n",
      "[CIFAR100] Epoch 30/100 - Train Acc: 0.8818, Test Acc: 0.2170\n",
      "[CIFAR100] Epoch 31/100 - Train Acc: 0.9127, Test Acc: 0.2245\n",
      "[CIFAR100] Epoch 32/100 - Train Acc: 0.9555, Test Acc: 0.2355\n",
      "[CIFAR100] Epoch 33/100 - Train Acc: 0.9822, Test Acc: 0.2440\n",
      "[CIFAR100] Epoch 34/100 - Train Acc: 0.9947, Test Acc: 0.2530\n",
      "[CIFAR100] Epoch 35/100 - Train Acc: 0.9986, Test Acc: 0.2490\n",
      "[CIFAR100] Epoch 36/100 - Train Acc: 0.9997, Test Acc: 0.2530\n",
      "[CIFAR100] Epoch 37/100 - Train Acc: 0.9998, Test Acc: 0.2580\n",
      "[CIFAR100] Epoch 38/100 - Train Acc: 0.9998, Test Acc: 0.2610\n",
      "[CIFAR100] Epoch 39/100 - Train Acc: 0.9998, Test Acc: 0.2585\n",
      "[CIFAR100] Epoch 40/100 - Train Acc: 0.9999, Test Acc: 0.2600\n",
      "[CIFAR100] Epoch 41/100 - Train Acc: 0.9998, Test Acc: 0.2605\n",
      "[CIFAR100] Epoch 42/100 - Train Acc: 0.9998, Test Acc: 0.2620\n",
      "[CIFAR100] Epoch 43/100 - Train Acc: 0.9999, Test Acc: 0.2595\n",
      "[CIFAR100] Epoch 44/100 - Train Acc: 0.9998, Test Acc: 0.2645\n",
      "[CIFAR100] Epoch 45/100 - Train Acc: 0.9999, Test Acc: 0.2615\n",
      "[CIFAR100] Epoch 46/100 - Train Acc: 0.9998, Test Acc: 0.2645\n",
      "[CIFAR100] Epoch 47/100 - Train Acc: 0.9999, Test Acc: 0.2565\n",
      "[CIFAR100] Epoch 48/100 - Train Acc: 0.9999, Test Acc: 0.2590\n",
      "[CIFAR100] Epoch 49/100 - Train Acc: 0.9999, Test Acc: 0.2615\n",
      "[CIFAR100] Epoch 50/100 - Train Acc: 0.9999, Test Acc: 0.2590\n",
      "[CIFAR100] Epoch 51/100 - Train Acc: 0.9998, Test Acc: 0.2620\n",
      "[CIFAR100] Epoch 52/100 - Train Acc: 0.9999, Test Acc: 0.2635\n",
      "[CIFAR100] Epoch 53/100 - Train Acc: 0.9998, Test Acc: 0.2640\n",
      "[CIFAR100] Epoch 54/100 - Train Acc: 0.9999, Test Acc: 0.2630\n",
      "[CIFAR100] Epoch 55/100 - Train Acc: 0.9998, Test Acc: 0.2590\n",
      "[CIFAR100] Epoch 56/100 - Train Acc: 0.9998, Test Acc: 0.2585\n",
      "[CIFAR100] Epoch 57/100 - Train Acc: 0.9998, Test Acc: 0.2600\n",
      "[CIFAR100] Epoch 58/100 - Train Acc: 0.9999, Test Acc: 0.2545\n",
      "[CIFAR100] Epoch 59/100 - Train Acc: 0.9999, Test Acc: 0.2620\n",
      "[CIFAR100] Epoch 60/100 - Train Acc: 0.9998, Test Acc: 0.2580\n",
      "[CIFAR100] Epoch 61/100 - Train Acc: 0.9999, Test Acc: 0.2565\n",
      "[CIFAR100] Epoch 62/100 - Train Acc: 0.9997, Test Acc: 0.2575\n",
      "[CIFAR100] Epoch 63/100 - Train Acc: 0.9998, Test Acc: 0.2550\n",
      "[CIFAR100] Epoch 64/100 - Train Acc: 0.9999, Test Acc: 0.2555\n",
      "[CIFAR100] Epoch 65/100 - Train Acc: 0.9998, Test Acc: 0.2585\n",
      "[CIFAR100] Epoch 66/100 - Train Acc: 0.9998, Test Acc: 0.2575\n",
      "[CIFAR100] Epoch 67/100 - Train Acc: 0.9998, Test Acc: 0.2585\n",
      "[CIFAR100] Epoch 68/100 - Train Acc: 0.9999, Test Acc: 0.2590\n",
      "[CIFAR100] Epoch 69/100 - Train Acc: 0.9998, Test Acc: 0.2600\n",
      "[CIFAR100] Epoch 70/100 - Train Acc: 0.8068, Test Acc: 0.2095\n",
      "[CIFAR100] Epoch 71/100 - Train Acc: 0.8455, Test Acc: 0.2140\n",
      "[CIFAR100] Epoch 72/100 - Train Acc: 0.9567, Test Acc: 0.2350\n",
      "[CIFAR100] Epoch 73/100 - Train Acc: 0.9895, Test Acc: 0.2420\n",
      "[CIFAR100] Epoch 74/100 - Train Acc: 0.9979, Test Acc: 0.2505\n",
      "[CIFAR100] Epoch 75/100 - Train Acc: 0.9998, Test Acc: 0.2515\n",
      "[CIFAR100] Epoch 76/100 - Train Acc: 0.9997, Test Acc: 0.2570\n",
      "[CIFAR100] Epoch 77/100 - Train Acc: 0.9999, Test Acc: 0.2565\n",
      "[CIFAR100] Epoch 78/100 - Train Acc: 0.9999, Test Acc: 0.2550\n",
      "[CIFAR100] Epoch 79/100 - Train Acc: 0.9999, Test Acc: 0.2530\n",
      "[CIFAR100] Epoch 80/100 - Train Acc: 0.9999, Test Acc: 0.2540\n",
      "[CIFAR100] Epoch 81/100 - Train Acc: 0.9999, Test Acc: 0.2530\n",
      "[CIFAR100] Epoch 82/100 - Train Acc: 0.9998, Test Acc: 0.2520\n",
      "[CIFAR100] Epoch 83/100 - Train Acc: 0.9999, Test Acc: 0.2525\n",
      "[CIFAR100] Epoch 84/100 - Train Acc: 0.9999, Test Acc: 0.2525\n",
      "[CIFAR100] Epoch 85/100 - Train Acc: 0.9999, Test Acc: 0.2515\n",
      "[CIFAR100] Epoch 86/100 - Train Acc: 0.9998, Test Acc: 0.2520\n",
      "[CIFAR100] Epoch 87/100 - Train Acc: 0.9956, Test Acc: 0.2470\n",
      "[CIFAR100] Epoch 88/100 - Train Acc: 0.9893, Test Acc: 0.2340\n",
      "[CIFAR100] Epoch 89/100 - Train Acc: 0.9624, Test Acc: 0.2325\n",
      "[CIFAR100] Epoch 90/100 - Train Acc: 0.9610, Test Acc: 0.2170\n",
      "[CIFAR100] Epoch 91/100 - Train Acc: 0.9824, Test Acc: 0.2305\n",
      "[CIFAR100] Epoch 92/100 - Train Acc: 0.9936, Test Acc: 0.2375\n",
      "[CIFAR100] Epoch 93/100 - Train Acc: 0.9986, Test Acc: 0.2395\n",
      "[CIFAR100] Epoch 94/100 - Train Acc: 0.9992, Test Acc: 0.2470\n",
      "[CIFAR100] Epoch 95/100 - Train Acc: 0.9996, Test Acc: 0.2460\n",
      "[CIFAR100] Epoch 96/100 - Train Acc: 0.9998, Test Acc: 0.2480\n",
      "[CIFAR100] Epoch 97/100 - Train Acc: 0.9998, Test Acc: 0.2475\n",
      "[CIFAR100] Epoch 98/100 - Train Acc: 0.9999, Test Acc: 0.2465\n",
      "[CIFAR100] Epoch 99/100 - Train Acc: 0.9998, Test Acc: 0.2460\n",
      "[CIFAR100] Epoch 100/100 - Train Acc: 0.9999, Test Acc: 0.2485\n"
     ]
    },
    {
     "data": {
      "text/html": [],
      "text/plain": [
       "<IPython.core.display.HTML object>"
      ]
     },
     "metadata": {},
     "output_type": "display_data"
    },
    {
     "data": {
      "text/html": [
       "<br>    <style><br>        .wandb-row {<br>            display: flex;<br>            flex-direction: row;<br>            flex-wrap: wrap;<br>            justify-content: flex-start;<br>            width: 100%;<br>        }<br>        .wandb-col {<br>            display: flex;<br>            flex-direction: column;<br>            flex-basis: 100%;<br>            flex: 1;<br>            padding: 10px;<br>        }<br>    </style><br><div class=\"wandb-row\"><div class=\"wandb-col\"><h3>Run history:</h3><br/><table class=\"wandb\"><tr><td>epoch</td><td>▁▁▁▁▂▂▂▂▃▃▃▃▃▃▃▃▃▄▄▄▄▄▅▅▅▅▅▆▆▆▆▇▇▇▇▇▇▇██</td></tr><tr><td>test_acc</td><td>▁▃▄▇▇█▇▇▇▇▇▇█▇▆▇▇▇██████████▆▇▇█▇▇▇▇▆▆▆▇</td></tr><tr><td>test_loss</td><td>▁▁▁▁▃▄▅▅▆▆▆▆▅▆▆▇▇▇▇▇▇▇█▇████▄▆▇▇▇▇█▆▇▇██</td></tr><tr><td>train_acc</td><td>▁▂▂▅▅▇▇████▇████████████████████████████</td></tr><tr><td>train_loss</td><td>█▅▄▃▂▁▁▁▁▁▁▁▁▁▁▁▁▁▁▁▁▁▁▁▁▁▁▁▂▂▁▁▁▁▁▁▁▁▁▁</td></tr></table><br/></div><div class=\"wandb-col\"><h3>Run summary:</h3><br/><table class=\"wandb\"><tr><td>epoch</td><td>100</td></tr><tr><td>test_acc</td><td>0.2485</td></tr><tr><td>test_loss</td><td>9.42936</td></tr><tr><td>train_acc</td><td>0.9999</td></tr><tr><td>train_loss</td><td>0.00071</td></tr></table><br/></div></div>"
      ],
      "text/plain": [
       "<IPython.core.display.HTML object>"
      ]
     },
     "metadata": {},
     "output_type": "display_data"
    },
    {
     "data": {
      "text/html": [
       " View run <strong style=\"color:#cdcd00\">seq_CIFAR100_CIFAR10_part1_CIFAR100</strong> at: <a href='https://wandb.ai/142201020-indian-institute-of-technology-palakkad/CIFAR-sequential/runs/6egjw1wk' target=\"_blank\">https://wandb.ai/142201020-indian-institute-of-technology-palakkad/CIFAR-sequential/runs/6egjw1wk</a><br> View project at: <a href='https://wandb.ai/142201020-indian-institute-of-technology-palakkad/CIFAR-sequential' target=\"_blank\">https://wandb.ai/142201020-indian-institute-of-technology-palakkad/CIFAR-sequential</a><br>Synced 5 W&B file(s), 0 media file(s), 0 artifact file(s) and 0 other file(s)"
      ],
      "text/plain": [
       "<IPython.core.display.HTML object>"
      ]
     },
     "metadata": {},
     "output_type": "display_data"
    },
    {
     "data": {
      "text/html": [
       "Find logs at: <code>./wandb/run-20251013_200209-6egjw1wk/logs</code>"
      ],
      "text/plain": [
       "<IPython.core.display.HTML object>"
      ]
     },
     "metadata": {},
     "output_type": "display_data"
    },
    {
     "data": {
      "text/html": [],
      "text/plain": [
       "<IPython.core.display.HTML object>"
      ]
     },
     "metadata": {},
     "output_type": "display_data"
    },
    {
     "data": {
      "text/html": [
       "Tracking run with wandb version 0.22.2"
      ],
      "text/plain": [
       "<IPython.core.display.HTML object>"
      ]
     },
     "metadata": {},
     "output_type": "display_data"
    },
    {
     "data": {
      "text/html": [
       "Run data is saved locally in <code>/home/hemanth/Desktop/HEMANTH/SEM-7/MLOPS/LAB5/wandb/run-20251013_200818-1mvw62qm</code>"
      ],
      "text/plain": [
       "<IPython.core.display.HTML object>"
      ]
     },
     "metadata": {},
     "output_type": "display_data"
    },
    {
     "data": {
      "text/html": [
       "Syncing run <strong><a href='https://wandb.ai/142201020-indian-institute-of-technology-palakkad/CIFAR-sequential/runs/1mvw62qm' target=\"_blank\">seq_CIFAR100_CIFAR10_part2_CIFAR10</a></strong> to <a href='https://wandb.ai/142201020-indian-institute-of-technology-palakkad/CIFAR-sequential' target=\"_blank\">Weights & Biases</a> (<a href='https://wandb.me/developer-guide' target=\"_blank\">docs</a>)<br>"
      ],
      "text/plain": [
       "<IPython.core.display.HTML object>"
      ]
     },
     "metadata": {},
     "output_type": "display_data"
    },
    {
     "data": {
      "text/html": [
       " View project at <a href='https://wandb.ai/142201020-indian-institute-of-technology-palakkad/CIFAR-sequential' target=\"_blank\">https://wandb.ai/142201020-indian-institute-of-technology-palakkad/CIFAR-sequential</a>"
      ],
      "text/plain": [
       "<IPython.core.display.HTML object>"
      ]
     },
     "metadata": {},
     "output_type": "display_data"
    },
    {
     "data": {
      "text/html": [
       " View run at <a href='https://wandb.ai/142201020-indian-institute-of-technology-palakkad/CIFAR-sequential/runs/1mvw62qm' target=\"_blank\">https://wandb.ai/142201020-indian-institute-of-technology-palakkad/CIFAR-sequential/runs/1mvw62qm</a>"
      ],
      "text/plain": [
       "<IPython.core.display.HTML object>"
      ]
     },
     "metadata": {},
     "output_type": "display_data"
    },
    {
     "name": "stderr",
     "output_type": "stream",
     "text": [
      "100%|██████████| 170M/170M [00:37<00:00, 4.60MB/s] \n"
     ]
    },
    {
     "name": "stdout",
     "output_type": "stream",
     "text": [
      "[CIFAR10] Epoch 1/100 - Train Acc: 0.3591, Test Acc: 0.4665\n",
      "[CIFAR10] Epoch 2/100 - Train Acc: 0.5090, Test Acc: 0.5045\n",
      "[CIFAR10] Epoch 3/100 - Train Acc: 0.5563, Test Acc: 0.5400\n",
      "[CIFAR10] Epoch 4/100 - Train Acc: 0.6024, Test Acc: 0.5655\n",
      "[CIFAR10] Epoch 5/100 - Train Acc: 0.6603, Test Acc: 0.5740\n",
      "[CIFAR10] Epoch 6/100 - Train Acc: 0.6913, Test Acc: 0.5725\n",
      "[CIFAR10] Epoch 7/100 - Train Acc: 0.7246, Test Acc: 0.5810\n",
      "[CIFAR10] Epoch 8/100 - Train Acc: 0.7595, Test Acc: 0.5945\n",
      "[CIFAR10] Epoch 9/100 - Train Acc: 0.7935, Test Acc: 0.5975\n",
      "[CIFAR10] Epoch 10/100 - Train Acc: 0.8311, Test Acc: 0.6120\n",
      "[CIFAR10] Epoch 11/100 - Train Acc: 0.8749, Test Acc: 0.5975\n",
      "[CIFAR10] Epoch 12/100 - Train Acc: 0.9016, Test Acc: 0.6035\n",
      "[CIFAR10] Epoch 13/100 - Train Acc: 0.9343, Test Acc: 0.5800\n",
      "[CIFAR10] Epoch 14/100 - Train Acc: 0.9548, Test Acc: 0.5830\n",
      "[CIFAR10] Epoch 15/100 - Train Acc: 0.9657, Test Acc: 0.6060\n",
      "[CIFAR10] Epoch 16/100 - Train Acc: 0.9870, Test Acc: 0.6045\n",
      "[CIFAR10] Epoch 17/100 - Train Acc: 0.9911, Test Acc: 0.6050\n",
      "[CIFAR10] Epoch 18/100 - Train Acc: 0.9979, Test Acc: 0.6120\n",
      "[CIFAR10] Epoch 19/100 - Train Acc: 0.9992, Test Acc: 0.6030\n",
      "[CIFAR10] Epoch 20/100 - Train Acc: 0.9995, Test Acc: 0.5990\n",
      "[CIFAR10] Epoch 21/100 - Train Acc: 0.9997, Test Acc: 0.6125\n",
      "[CIFAR10] Epoch 22/100 - Train Acc: 0.9998, Test Acc: 0.6115\n",
      "[CIFAR10] Epoch 23/100 - Train Acc: 0.9996, Test Acc: 0.6115\n",
      "[CIFAR10] Epoch 24/100 - Train Acc: 1.0000, Test Acc: 0.6085\n",
      "[CIFAR10] Epoch 25/100 - Train Acc: 1.0000, Test Acc: 0.6005\n",
      "[CIFAR10] Epoch 26/100 - Train Acc: 0.9990, Test Acc: 0.5950\n",
      "[CIFAR10] Epoch 27/100 - Train Acc: 0.9827, Test Acc: 0.5815\n",
      "[CIFAR10] Epoch 28/100 - Train Acc: 0.9423, Test Acc: 0.5750\n",
      "[CIFAR10] Epoch 29/100 - Train Acc: 0.9782, Test Acc: 0.5965\n",
      "[CIFAR10] Epoch 30/100 - Train Acc: 0.9907, Test Acc: 0.5950\n",
      "[CIFAR10] Epoch 31/100 - Train Acc: 0.9975, Test Acc: 0.6060\n",
      "[CIFAR10] Epoch 32/100 - Train Acc: 0.9996, Test Acc: 0.5970\n",
      "[CIFAR10] Epoch 33/100 - Train Acc: 1.0000, Test Acc: 0.6070\n",
      "[CIFAR10] Epoch 34/100 - Train Acc: 1.0000, Test Acc: 0.6105\n",
      "[CIFAR10] Epoch 35/100 - Train Acc: 1.0000, Test Acc: 0.6105\n",
      "[CIFAR10] Epoch 36/100 - Train Acc: 1.0000, Test Acc: 0.6080\n",
      "[CIFAR10] Epoch 37/100 - Train Acc: 1.0000, Test Acc: 0.6080\n",
      "[CIFAR10] Epoch 38/100 - Train Acc: 1.0000, Test Acc: 0.6060\n",
      "[CIFAR10] Epoch 39/100 - Train Acc: 1.0000, Test Acc: 0.6100\n",
      "[CIFAR10] Epoch 40/100 - Train Acc: 1.0000, Test Acc: 0.6090\n",
      "[CIFAR10] Epoch 41/100 - Train Acc: 1.0000, Test Acc: 0.6095\n",
      "[CIFAR10] Epoch 42/100 - Train Acc: 1.0000, Test Acc: 0.6095\n",
      "[CIFAR10] Epoch 43/100 - Train Acc: 1.0000, Test Acc: 0.6070\n",
      "[CIFAR10] Epoch 44/100 - Train Acc: 1.0000, Test Acc: 0.6075\n",
      "[CIFAR10] Epoch 45/100 - Train Acc: 1.0000, Test Acc: 0.6070\n",
      "[CIFAR10] Epoch 46/100 - Train Acc: 1.0000, Test Acc: 0.6080\n",
      "[CIFAR10] Epoch 47/100 - Train Acc: 1.0000, Test Acc: 0.6085\n",
      "[CIFAR10] Epoch 48/100 - Train Acc: 1.0000, Test Acc: 0.6085\n",
      "[CIFAR10] Epoch 49/100 - Train Acc: 1.0000, Test Acc: 0.6090\n",
      "[CIFAR10] Epoch 50/100 - Train Acc: 1.0000, Test Acc: 0.6095\n",
      "[CIFAR10] Epoch 51/100 - Train Acc: 1.0000, Test Acc: 0.6085\n",
      "[CIFAR10] Epoch 52/100 - Train Acc: 1.0000, Test Acc: 0.6090\n",
      "[CIFAR10] Epoch 53/100 - Train Acc: 1.0000, Test Acc: 0.6110\n",
      "[CIFAR10] Epoch 54/100 - Train Acc: 1.0000, Test Acc: 0.6080\n",
      "[CIFAR10] Epoch 55/100 - Train Acc: 1.0000, Test Acc: 0.6085\n",
      "[CIFAR10] Epoch 56/100 - Train Acc: 1.0000, Test Acc: 0.6090\n",
      "[CIFAR10] Epoch 57/100 - Train Acc: 1.0000, Test Acc: 0.6075\n",
      "[CIFAR10] Epoch 58/100 - Train Acc: 1.0000, Test Acc: 0.6100\n",
      "[CIFAR10] Epoch 59/100 - Train Acc: 1.0000, Test Acc: 0.6115\n",
      "[CIFAR10] Epoch 60/100 - Train Acc: 1.0000, Test Acc: 0.6105\n",
      "[CIFAR10] Epoch 61/100 - Train Acc: 1.0000, Test Acc: 0.6100\n",
      "[CIFAR10] Epoch 62/100 - Train Acc: 1.0000, Test Acc: 0.6090\n",
      "[CIFAR10] Epoch 63/100 - Train Acc: 1.0000, Test Acc: 0.6095\n",
      "[CIFAR10] Epoch 64/100 - Train Acc: 1.0000, Test Acc: 0.6090\n",
      "[CIFAR10] Epoch 65/100 - Train Acc: 1.0000, Test Acc: 0.6095\n",
      "[CIFAR10] Epoch 66/100 - Train Acc: 1.0000, Test Acc: 0.6085\n",
      "[CIFAR10] Epoch 67/100 - Train Acc: 1.0000, Test Acc: 0.6085\n",
      "[CIFAR10] Epoch 68/100 - Train Acc: 1.0000, Test Acc: 0.6080\n",
      "[CIFAR10] Epoch 69/100 - Train Acc: 1.0000, Test Acc: 0.6095\n",
      "[CIFAR10] Epoch 70/100 - Train Acc: 1.0000, Test Acc: 0.6100\n",
      "[CIFAR10] Epoch 71/100 - Train Acc: 1.0000, Test Acc: 0.6100\n",
      "[CIFAR10] Epoch 72/100 - Train Acc: 1.0000, Test Acc: 0.6105\n",
      "[CIFAR10] Epoch 73/100 - Train Acc: 1.0000, Test Acc: 0.6095\n",
      "[CIFAR10] Epoch 74/100 - Train Acc: 1.0000, Test Acc: 0.6085\n",
      "[CIFAR10] Epoch 75/100 - Train Acc: 1.0000, Test Acc: 0.6095\n",
      "[CIFAR10] Epoch 76/100 - Train Acc: 1.0000, Test Acc: 0.6085\n",
      "[CIFAR10] Epoch 77/100 - Train Acc: 1.0000, Test Acc: 0.6105\n",
      "[CIFAR10] Epoch 78/100 - Train Acc: 1.0000, Test Acc: 0.6115\n",
      "[CIFAR10] Epoch 79/100 - Train Acc: 1.0000, Test Acc: 0.6105\n",
      "[CIFAR10] Epoch 80/100 - Train Acc: 1.0000, Test Acc: 0.6095\n",
      "[CIFAR10] Epoch 81/100 - Train Acc: 1.0000, Test Acc: 0.6085\n",
      "[CIFAR10] Epoch 82/100 - Train Acc: 1.0000, Test Acc: 0.6095\n",
      "[CIFAR10] Epoch 83/100 - Train Acc: 1.0000, Test Acc: 0.6105\n",
      "[CIFAR10] Epoch 84/100 - Train Acc: 1.0000, Test Acc: 0.6090\n",
      "[CIFAR10] Epoch 85/100 - Train Acc: 1.0000, Test Acc: 0.6100\n",
      "[CIFAR10] Epoch 86/100 - Train Acc: 1.0000, Test Acc: 0.6095\n",
      "[CIFAR10] Epoch 87/100 - Train Acc: 1.0000, Test Acc: 0.6105\n",
      "[CIFAR10] Epoch 88/100 - Train Acc: 1.0000, Test Acc: 0.6090\n",
      "[CIFAR10] Epoch 89/100 - Train Acc: 1.0000, Test Acc: 0.6090\n",
      "[CIFAR10] Epoch 90/100 - Train Acc: 1.0000, Test Acc: 0.6085\n",
      "[CIFAR10] Epoch 91/100 - Train Acc: 1.0000, Test Acc: 0.6105\n",
      "[CIFAR10] Epoch 92/100 - Train Acc: 1.0000, Test Acc: 0.6080\n",
      "[CIFAR10] Epoch 93/100 - Train Acc: 1.0000, Test Acc: 0.6105\n",
      "[CIFAR10] Epoch 94/100 - Train Acc: 1.0000, Test Acc: 0.6105\n",
      "[CIFAR10] Epoch 95/100 - Train Acc: 1.0000, Test Acc: 0.6100\n",
      "[CIFAR10] Epoch 96/100 - Train Acc: 1.0000, Test Acc: 0.6090\n",
      "[CIFAR10] Epoch 97/100 - Train Acc: 1.0000, Test Acc: 0.6100\n",
      "[CIFAR10] Epoch 98/100 - Train Acc: 1.0000, Test Acc: 0.6115\n",
      "[CIFAR10] Epoch 99/100 - Train Acc: 1.0000, Test Acc: 0.6115\n",
      "[CIFAR10] Epoch 100/100 - Train Acc: 1.0000, Test Acc: 0.6120\n"
     ]
    },
    {
     "data": {
      "text/html": [],
      "text/plain": [
       "<IPython.core.display.HTML object>"
      ]
     },
     "metadata": {},
     "output_type": "display_data"
    },
    {
     "data": {
      "text/html": [
       "<br>    <style><br>        .wandb-row {<br>            display: flex;<br>            flex-direction: row;<br>            flex-wrap: wrap;<br>            justify-content: flex-start;<br>            width: 100%;<br>        }<br>        .wandb-col {<br>            display: flex;<br>            flex-direction: column;<br>            flex-basis: 100%;<br>            flex: 1;<br>            padding: 10px;<br>        }<br>    </style><br><div class=\"wandb-row\"><div class=\"wandb-col\"><h3>Run history:</h3><br/><table class=\"wandb\"><tr><td>epoch</td><td>▁▁▁▂▂▂▂▂▂▂▂▂▃▃▃▃▃▃▃▄▄▄▄▄▄▅▅▅▅▆▆▆▆▇▇▇▇███</td></tr><tr><td>test_acc</td><td>▁▅███▆▇▇████████████████████████████████</td></tr><tr><td>test_loss</td><td>▁▁▁▁▂▂▂▃▄▄▄▄▅▅▆▆▆▆▆▆▆▆▆▆▆▆▇▇▇▇▇▇▇▇▇█████</td></tr><tr><td>train_acc</td><td>▁▃▄▅▆██████▇████████████████████████████</td></tr><tr><td>train_loss</td><td>█▇▆▅▅▃▂▁▁▁▁▁▂▁▁▁▁▁▁▁▁▁▁▁▁▁▁▁▁▁▁▁▁▁▁▁▁▁▁▁</td></tr></table><br/></div><div class=\"wandb-col\"><h3>Run summary:</h3><br/><table class=\"wandb\"><tr><td>epoch</td><td>100</td></tr><tr><td>test_acc</td><td>0.612</td></tr><tr><td>test_loss</td><td>3.7414</td></tr><tr><td>train_acc</td><td>1</td></tr><tr><td>train_loss</td><td>2e-05</td></tr></table><br/></div></div>"
      ],
      "text/plain": [
       "<IPython.core.display.HTML object>"
      ]
     },
     "metadata": {},
     "output_type": "display_data"
    },
    {
     "data": {
      "text/html": [
       " View run <strong style=\"color:#cdcd00\">seq_CIFAR100_CIFAR10_part2_CIFAR10</strong> at: <a href='https://wandb.ai/142201020-indian-institute-of-technology-palakkad/CIFAR-sequential/runs/1mvw62qm' target=\"_blank\">https://wandb.ai/142201020-indian-institute-of-technology-palakkad/CIFAR-sequential/runs/1mvw62qm</a><br> View project at: <a href='https://wandb.ai/142201020-indian-institute-of-technology-palakkad/CIFAR-sequential' target=\"_blank\">https://wandb.ai/142201020-indian-institute-of-technology-palakkad/CIFAR-sequential</a><br>Synced 5 W&B file(s), 0 media file(s), 0 artifact file(s) and 0 other file(s)"
      ],
      "text/plain": [
       "<IPython.core.display.HTML object>"
      ]
     },
     "metadata": {},
     "output_type": "display_data"
    },
    {
     "data": {
      "text/html": [
       "Find logs at: <code>./wandb/run-20251013_200818-1mvw62qm/logs</code>"
      ],
      "text/plain": [
       "<IPython.core.display.HTML object>"
      ]
     },
     "metadata": {},
     "output_type": "display_data"
    }
   ],
   "source": [
    "sequential_training([\"CIFAR100\", \"CIFAR10\"], epochs=100)\n"
   ]
  },
  {
   "cell_type": "code",
   "execution_count": 9,
   "id": "7a2efd85",
   "metadata": {},
   "outputs": [
    {
     "data": {
      "text/html": [],
      "text/plain": [
       "<IPython.core.display.HTML object>"
      ]
     },
     "metadata": {},
     "output_type": "display_data"
    },
    {
     "data": {
      "text/html": [
       "Tracking run with wandb version 0.22.2"
      ],
      "text/plain": [
       "<IPython.core.display.HTML object>"
      ]
     },
     "metadata": {},
     "output_type": "display_data"
    },
    {
     "data": {
      "text/html": [
       "Run data is saved locally in <code>/home/hemanth/Desktop/HEMANTH/SEM-7/MLOPS/LAB5/wandb/run-20251013_203108-fpg0pgqr</code>"
      ],
      "text/plain": [
       "<IPython.core.display.HTML object>"
      ]
     },
     "metadata": {},
     "output_type": "display_data"
    },
    {
     "data": {
      "text/html": [
       "Syncing run <strong><a href='https://wandb.ai/142201020-indian-institute-of-technology-palakkad/CIFAR-sequential/runs/fpg0pgqr' target=\"_blank\">seq_CIFAR10_CIFAR100_part1_CIFAR10</a></strong> to <a href='https://wandb.ai/142201020-indian-institute-of-technology-palakkad/CIFAR-sequential' target=\"_blank\">Weights & Biases</a> (<a href='https://wandb.me/developer-guide' target=\"_blank\">docs</a>)<br>"
      ],
      "text/plain": [
       "<IPython.core.display.HTML object>"
      ]
     },
     "metadata": {},
     "output_type": "display_data"
    },
    {
     "data": {
      "text/html": [
       " View project at <a href='https://wandb.ai/142201020-indian-institute-of-technology-palakkad/CIFAR-sequential' target=\"_blank\">https://wandb.ai/142201020-indian-institute-of-technology-palakkad/CIFAR-sequential</a>"
      ],
      "text/plain": [
       "<IPython.core.display.HTML object>"
      ]
     },
     "metadata": {},
     "output_type": "display_data"
    },
    {
     "data": {
      "text/html": [
       " View run at <a href='https://wandb.ai/142201020-indian-institute-of-technology-palakkad/CIFAR-sequential/runs/fpg0pgqr' target=\"_blank\">https://wandb.ai/142201020-indian-institute-of-technology-palakkad/CIFAR-sequential/runs/fpg0pgqr</a>"
      ],
      "text/plain": [
       "<IPython.core.display.HTML object>"
      ]
     },
     "metadata": {},
     "output_type": "display_data"
    },
    {
     "name": "stdout",
     "output_type": "stream",
     "text": [
      "[CIFAR10] Epoch 1/100 - Train Acc: 0.3565, Test Acc: 0.4400\n",
      "[CIFAR10] Epoch 2/100 - Train Acc: 0.4922, Test Acc: 0.4950\n",
      "[CIFAR10] Epoch 3/100 - Train Acc: 0.5579, Test Acc: 0.5395\n",
      "[CIFAR10] Epoch 4/100 - Train Acc: 0.6037, Test Acc: 0.5660\n",
      "[CIFAR10] Epoch 5/100 - Train Acc: 0.6498, Test Acc: 0.5780\n",
      "[CIFAR10] Epoch 6/100 - Train Acc: 0.6840, Test Acc: 0.5960\n",
      "[CIFAR10] Epoch 7/100 - Train Acc: 0.7089, Test Acc: 0.6020\n",
      "[CIFAR10] Epoch 8/100 - Train Acc: 0.7498, Test Acc: 0.6075\n",
      "[CIFAR10] Epoch 9/100 - Train Acc: 0.7845, Test Acc: 0.6335\n",
      "[CIFAR10] Epoch 10/100 - Train Acc: 0.8143, Test Acc: 0.6160\n",
      "[CIFAR10] Epoch 11/100 - Train Acc: 0.8437, Test Acc: 0.5965\n",
      "[CIFAR10] Epoch 12/100 - Train Acc: 0.8742, Test Acc: 0.6285\n",
      "[CIFAR10] Epoch 13/100 - Train Acc: 0.9080, Test Acc: 0.6245\n",
      "[CIFAR10] Epoch 14/100 - Train Acc: 0.9310, Test Acc: 0.6280\n",
      "[CIFAR10] Epoch 15/100 - Train Acc: 0.9537, Test Acc: 0.6110\n",
      "[CIFAR10] Epoch 16/100 - Train Acc: 0.9717, Test Acc: 0.6295\n",
      "[CIFAR10] Epoch 17/100 - Train Acc: 0.9836, Test Acc: 0.6165\n",
      "[CIFAR10] Epoch 18/100 - Train Acc: 0.9934, Test Acc: 0.6250\n",
      "[CIFAR10] Epoch 19/100 - Train Acc: 0.9972, Test Acc: 0.6345\n",
      "[CIFAR10] Epoch 20/100 - Train Acc: 0.9991, Test Acc: 0.6265\n",
      "[CIFAR10] Epoch 21/100 - Train Acc: 0.9990, Test Acc: 0.6245\n",
      "[CIFAR10] Epoch 22/100 - Train Acc: 0.9998, Test Acc: 0.6345\n",
      "[CIFAR10] Epoch 23/100 - Train Acc: 0.9996, Test Acc: 0.6270\n",
      "[CIFAR10] Epoch 24/100 - Train Acc: 0.9999, Test Acc: 0.6295\n",
      "[CIFAR10] Epoch 25/100 - Train Acc: 1.0000, Test Acc: 0.6310\n",
      "[CIFAR10] Epoch 26/100 - Train Acc: 0.9995, Test Acc: 0.6270\n",
      "[CIFAR10] Epoch 27/100 - Train Acc: 1.0000, Test Acc: 0.6310\n",
      "[CIFAR10] Epoch 28/100 - Train Acc: 1.0000, Test Acc: 0.6325\n",
      "[CIFAR10] Epoch 29/100 - Train Acc: 1.0000, Test Acc: 0.6270\n",
      "[CIFAR10] Epoch 30/100 - Train Acc: 1.0000, Test Acc: 0.6290\n",
      "[CIFAR10] Epoch 31/100 - Train Acc: 1.0000, Test Acc: 0.6290\n",
      "[CIFAR10] Epoch 32/100 - Train Acc: 1.0000, Test Acc: 0.6320\n",
      "[CIFAR10] Epoch 33/100 - Train Acc: 1.0000, Test Acc: 0.6250\n",
      "[CIFAR10] Epoch 34/100 - Train Acc: 1.0000, Test Acc: 0.6255\n",
      "[CIFAR10] Epoch 35/100 - Train Acc: 1.0000, Test Acc: 0.6290\n",
      "[CIFAR10] Epoch 36/100 - Train Acc: 1.0000, Test Acc: 0.6275\n",
      "[CIFAR10] Epoch 37/100 - Train Acc: 1.0000, Test Acc: 0.6280\n",
      "[CIFAR10] Epoch 38/100 - Train Acc: 1.0000, Test Acc: 0.6290\n",
      "[CIFAR10] Epoch 39/100 - Train Acc: 1.0000, Test Acc: 0.6245\n",
      "[CIFAR10] Epoch 40/100 - Train Acc: 1.0000, Test Acc: 0.6295\n",
      "[CIFAR10] Epoch 41/100 - Train Acc: 1.0000, Test Acc: 0.6245\n",
      "[CIFAR10] Epoch 42/100 - Train Acc: 1.0000, Test Acc: 0.6300\n",
      "[CIFAR10] Epoch 43/100 - Train Acc: 1.0000, Test Acc: 0.6270\n",
      "[CIFAR10] Epoch 44/100 - Train Acc: 1.0000, Test Acc: 0.6265\n",
      "[CIFAR10] Epoch 45/100 - Train Acc: 1.0000, Test Acc: 0.6285\n",
      "[CIFAR10] Epoch 46/100 - Train Acc: 1.0000, Test Acc: 0.6260\n",
      "[CIFAR10] Epoch 47/100 - Train Acc: 1.0000, Test Acc: 0.6250\n",
      "[CIFAR10] Epoch 48/100 - Train Acc: 1.0000, Test Acc: 0.6265\n",
      "[CIFAR10] Epoch 49/100 - Train Acc: 1.0000, Test Acc: 0.6255\n",
      "[CIFAR10] Epoch 50/100 - Train Acc: 1.0000, Test Acc: 0.6255\n",
      "[CIFAR10] Epoch 51/100 - Train Acc: 1.0000, Test Acc: 0.6280\n",
      "[CIFAR10] Epoch 52/100 - Train Acc: 1.0000, Test Acc: 0.6245\n",
      "[CIFAR10] Epoch 53/100 - Train Acc: 1.0000, Test Acc: 0.6265\n",
      "[CIFAR10] Epoch 54/100 - Train Acc: 1.0000, Test Acc: 0.6235\n",
      "[CIFAR10] Epoch 55/100 - Train Acc: 1.0000, Test Acc: 0.6255\n",
      "[CIFAR10] Epoch 56/100 - Train Acc: 1.0000, Test Acc: 0.6260\n",
      "[CIFAR10] Epoch 57/100 - Train Acc: 1.0000, Test Acc: 0.6250\n",
      "[CIFAR10] Epoch 58/100 - Train Acc: 1.0000, Test Acc: 0.6250\n",
      "[CIFAR10] Epoch 59/100 - Train Acc: 1.0000, Test Acc: 0.6245\n",
      "[CIFAR10] Epoch 60/100 - Train Acc: 1.0000, Test Acc: 0.6265\n",
      "[CIFAR10] Epoch 61/100 - Train Acc: 1.0000, Test Acc: 0.6260\n",
      "[CIFAR10] Epoch 62/100 - Train Acc: 1.0000, Test Acc: 0.6225\n",
      "[CIFAR10] Epoch 63/100 - Train Acc: 1.0000, Test Acc: 0.6250\n",
      "[CIFAR10] Epoch 64/100 - Train Acc: 1.0000, Test Acc: 0.6240\n",
      "[CIFAR10] Epoch 65/100 - Train Acc: 1.0000, Test Acc: 0.6255\n",
      "[CIFAR10] Epoch 66/100 - Train Acc: 1.0000, Test Acc: 0.6245\n",
      "[CIFAR10] Epoch 67/100 - Train Acc: 1.0000, Test Acc: 0.6255\n",
      "[CIFAR10] Epoch 68/100 - Train Acc: 1.0000, Test Acc: 0.6240\n",
      "[CIFAR10] Epoch 69/100 - Train Acc: 1.0000, Test Acc: 0.6240\n",
      "[CIFAR10] Epoch 70/100 - Train Acc: 1.0000, Test Acc: 0.6235\n",
      "[CIFAR10] Epoch 71/100 - Train Acc: 1.0000, Test Acc: 0.6255\n",
      "[CIFAR10] Epoch 72/100 - Train Acc: 1.0000, Test Acc: 0.6250\n",
      "[CIFAR10] Epoch 73/100 - Train Acc: 1.0000, Test Acc: 0.6240\n",
      "[CIFAR10] Epoch 74/100 - Train Acc: 1.0000, Test Acc: 0.6260\n",
      "[CIFAR10] Epoch 75/100 - Train Acc: 1.0000, Test Acc: 0.6265\n",
      "[CIFAR10] Epoch 76/100 - Train Acc: 1.0000, Test Acc: 0.6235\n",
      "[CIFAR10] Epoch 77/100 - Train Acc: 1.0000, Test Acc: 0.6290\n",
      "[CIFAR10] Epoch 78/100 - Train Acc: 1.0000, Test Acc: 0.6235\n",
      "[CIFAR10] Epoch 79/100 - Train Acc: 1.0000, Test Acc: 0.6230\n",
      "[CIFAR10] Epoch 80/100 - Train Acc: 1.0000, Test Acc: 0.6245\n",
      "[CIFAR10] Epoch 81/100 - Train Acc: 1.0000, Test Acc: 0.6270\n",
      "[CIFAR10] Epoch 82/100 - Train Acc: 1.0000, Test Acc: 0.6240\n",
      "[CIFAR10] Epoch 83/100 - Train Acc: 1.0000, Test Acc: 0.6225\n",
      "[CIFAR10] Epoch 84/100 - Train Acc: 1.0000, Test Acc: 0.6240\n",
      "[CIFAR10] Epoch 85/100 - Train Acc: 1.0000, Test Acc: 0.6255\n",
      "[CIFAR10] Epoch 86/100 - Train Acc: 1.0000, Test Acc: 0.6265\n",
      "[CIFAR10] Epoch 87/100 - Train Acc: 1.0000, Test Acc: 0.6245\n",
      "[CIFAR10] Epoch 88/100 - Train Acc: 1.0000, Test Acc: 0.6275\n",
      "[CIFAR10] Epoch 89/100 - Train Acc: 1.0000, Test Acc: 0.6255\n",
      "[CIFAR10] Epoch 90/100 - Train Acc: 1.0000, Test Acc: 0.6250\n",
      "[CIFAR10] Epoch 91/100 - Train Acc: 1.0000, Test Acc: 0.6260\n",
      "[CIFAR10] Epoch 92/100 - Train Acc: 1.0000, Test Acc: 0.6235\n",
      "[CIFAR10] Epoch 93/100 - Train Acc: 1.0000, Test Acc: 0.6245\n",
      "[CIFAR10] Epoch 94/100 - Train Acc: 1.0000, Test Acc: 0.6235\n",
      "[CIFAR10] Epoch 95/100 - Train Acc: 1.0000, Test Acc: 0.6240\n",
      "[CIFAR10] Epoch 96/100 - Train Acc: 1.0000, Test Acc: 0.6240\n",
      "[CIFAR10] Epoch 97/100 - Train Acc: 1.0000, Test Acc: 0.6245\n",
      "[CIFAR10] Epoch 98/100 - Train Acc: 1.0000, Test Acc: 0.6250\n",
      "[CIFAR10] Epoch 99/100 - Train Acc: 1.0000, Test Acc: 0.6245\n",
      "[CIFAR10] Epoch 100/100 - Train Acc: 1.0000, Test Acc: 0.6245\n"
     ]
    },
    {
     "data": {
      "text/html": [],
      "text/plain": [
       "<IPython.core.display.HTML object>"
      ]
     },
     "metadata": {},
     "output_type": "display_data"
    },
    {
     "data": {
      "text/html": [
       "<br>    <style><br>        .wandb-row {<br>            display: flex;<br>            flex-direction: row;<br>            flex-wrap: wrap;<br>            justify-content: flex-start;<br>            width: 100%;<br>        }<br>        .wandb-col {<br>            display: flex;<br>            flex-direction: column;<br>            flex-basis: 100%;<br>            flex: 1;<br>            padding: 10px;<br>        }<br>    </style><br><div class=\"wandb-row\"><div class=\"wandb-col\"><h3>Run history:</h3><br/><table class=\"wandb\"><tr><td>epoch</td><td>▁▁▁▁▁▂▂▂▂▂▃▃▃▄▄▄▄▄▄▄▄▅▅▅▅▅▅▆▆▆▆▆▆▇▇▇▇▇▇█</td></tr><tr><td>test_acc</td><td>▁▅▆▇▇▇██████████████████████████████████</td></tr><tr><td>test_loss</td><td>▂▂▁▁▁▂▃▃▃▄▄▄▄▄▅▅▅▅▅▅▆▆▇▇▇▇▇▇▇▇▇▇▇▇▇█████</td></tr><tr><td>train_acc</td><td>▁▂▅▅▅▇▇▇▇███████████████████████████████</td></tr><tr><td>train_loss</td><td>█▇▄▃▃▁▁▁▁▁▁▁▁▁▁▁▁▁▁▁▁▁▁▁▁▁▁▁▁▁▁▁▁▁▁▁▁▁▁▁</td></tr></table><br/></div><div class=\"wandb-col\"><h3>Run summary:</h3><br/><table class=\"wandb\"><tr><td>epoch</td><td>100</td></tr><tr><td>test_acc</td><td>0.6245</td></tr><tr><td>test_loss</td><td>3.63838</td></tr><tr><td>train_acc</td><td>1</td></tr><tr><td>train_loss</td><td>3e-05</td></tr></table><br/></div></div>"
      ],
      "text/plain": [
       "<IPython.core.display.HTML object>"
      ]
     },
     "metadata": {},
     "output_type": "display_data"
    },
    {
     "data": {
      "text/html": [
       " View run <strong style=\"color:#cdcd00\">seq_CIFAR10_CIFAR100_part1_CIFAR10</strong> at: <a href='https://wandb.ai/142201020-indian-institute-of-technology-palakkad/CIFAR-sequential/runs/fpg0pgqr' target=\"_blank\">https://wandb.ai/142201020-indian-institute-of-technology-palakkad/CIFAR-sequential/runs/fpg0pgqr</a><br> View project at: <a href='https://wandb.ai/142201020-indian-institute-of-technology-palakkad/CIFAR-sequential' target=\"_blank\">https://wandb.ai/142201020-indian-institute-of-technology-palakkad/CIFAR-sequential</a><br>Synced 5 W&B file(s), 0 media file(s), 0 artifact file(s) and 0 other file(s)"
      ],
      "text/plain": [
       "<IPython.core.display.HTML object>"
      ]
     },
     "metadata": {},
     "output_type": "display_data"
    },
    {
     "data": {
      "text/html": [
       "Find logs at: <code>./wandb/run-20251013_203108-fpg0pgqr/logs</code>"
      ],
      "text/plain": [
       "<IPython.core.display.HTML object>"
      ]
     },
     "metadata": {},
     "output_type": "display_data"
    },
    {
     "data": {
      "text/html": [],
      "text/plain": [
       "<IPython.core.display.HTML object>"
      ]
     },
     "metadata": {},
     "output_type": "display_data"
    },
    {
     "data": {
      "text/html": [
       "Tracking run with wandb version 0.22.2"
      ],
      "text/plain": [
       "<IPython.core.display.HTML object>"
      ]
     },
     "metadata": {},
     "output_type": "display_data"
    },
    {
     "data": {
      "text/html": [
       "Run data is saved locally in <code>/home/hemanth/Desktop/HEMANTH/SEM-7/MLOPS/LAB5/wandb/run-20251013_203651-mshrmpki</code>"
      ],
      "text/plain": [
       "<IPython.core.display.HTML object>"
      ]
     },
     "metadata": {},
     "output_type": "display_data"
    },
    {
     "data": {
      "text/html": [
       "Syncing run <strong><a href='https://wandb.ai/142201020-indian-institute-of-technology-palakkad/CIFAR-sequential/runs/mshrmpki' target=\"_blank\">seq_CIFAR10_CIFAR100_part2_CIFAR100</a></strong> to <a href='https://wandb.ai/142201020-indian-institute-of-technology-palakkad/CIFAR-sequential' target=\"_blank\">Weights & Biases</a> (<a href='https://wandb.me/developer-guide' target=\"_blank\">docs</a>)<br>"
      ],
      "text/plain": [
       "<IPython.core.display.HTML object>"
      ]
     },
     "metadata": {},
     "output_type": "display_data"
    },
    {
     "data": {
      "text/html": [
       " View project at <a href='https://wandb.ai/142201020-indian-institute-of-technology-palakkad/CIFAR-sequential' target=\"_blank\">https://wandb.ai/142201020-indian-institute-of-technology-palakkad/CIFAR-sequential</a>"
      ],
      "text/plain": [
       "<IPython.core.display.HTML object>"
      ]
     },
     "metadata": {},
     "output_type": "display_data"
    },
    {
     "data": {
      "text/html": [
       " View run at <a href='https://wandb.ai/142201020-indian-institute-of-technology-palakkad/CIFAR-sequential/runs/mshrmpki' target=\"_blank\">https://wandb.ai/142201020-indian-institute-of-technology-palakkad/CIFAR-sequential/runs/mshrmpki</a>"
      ],
      "text/plain": [
       "<IPython.core.display.HTML object>"
      ]
     },
     "metadata": {},
     "output_type": "display_data"
    },
    {
     "name": "stdout",
     "output_type": "stream",
     "text": [
      "[CIFAR100] Epoch 1/100 - Train Acc: 0.0666, Test Acc: 0.1115\n",
      "[CIFAR100] Epoch 2/100 - Train Acc: 0.1611, Test Acc: 0.1715\n",
      "[CIFAR100] Epoch 3/100 - Train Acc: 0.2298, Test Acc: 0.2035\n",
      "[CIFAR100] Epoch 4/100 - Train Acc: 0.2884, Test Acc: 0.2280\n",
      "[CIFAR100] Epoch 5/100 - Train Acc: 0.3517, Test Acc: 0.2435\n",
      "[CIFAR100] Epoch 6/100 - Train Acc: 0.4092, Test Acc: 0.2515\n",
      "[CIFAR100] Epoch 7/100 - Train Acc: 0.4828, Test Acc: 0.2610\n",
      "[CIFAR100] Epoch 8/100 - Train Acc: 0.5442, Test Acc: 0.2595\n",
      "[CIFAR100] Epoch 9/100 - Train Acc: 0.6108, Test Acc: 0.2445\n",
      "[CIFAR100] Epoch 10/100 - Train Acc: 0.6746, Test Acc: 0.2530\n",
      "[CIFAR100] Epoch 11/100 - Train Acc: 0.7423, Test Acc: 0.2470\n",
      "[CIFAR100] Epoch 12/100 - Train Acc: 0.8174, Test Acc: 0.2430\n",
      "[CIFAR100] Epoch 13/100 - Train Acc: 0.8618, Test Acc: 0.2510\n",
      "[CIFAR100] Epoch 14/100 - Train Acc: 0.9064, Test Acc: 0.2460\n",
      "[CIFAR100] Epoch 15/100 - Train Acc: 0.9353, Test Acc: 0.2515\n",
      "[CIFAR100] Epoch 16/100 - Train Acc: 0.9671, Test Acc: 0.2370\n",
      "[CIFAR100] Epoch 17/100 - Train Acc: 0.9634, Test Acc: 0.2540\n",
      "[CIFAR100] Epoch 18/100 - Train Acc: 0.9868, Test Acc: 0.2455\n",
      "[CIFAR100] Epoch 19/100 - Train Acc: 0.9935, Test Acc: 0.2505\n",
      "[CIFAR100] Epoch 20/100 - Train Acc: 0.9964, Test Acc: 0.2560\n",
      "[CIFAR100] Epoch 21/100 - Train Acc: 0.9975, Test Acc: 0.2550\n",
      "[CIFAR100] Epoch 22/100 - Train Acc: 0.9977, Test Acc: 0.2570\n",
      "[CIFAR100] Epoch 23/100 - Train Acc: 0.9983, Test Acc: 0.2565\n",
      "[CIFAR100] Epoch 24/100 - Train Acc: 0.9991, Test Acc: 0.2570\n",
      "[CIFAR100] Epoch 25/100 - Train Acc: 0.9997, Test Acc: 0.2540\n",
      "[CIFAR100] Epoch 26/100 - Train Acc: 0.9993, Test Acc: 0.2550\n",
      "[CIFAR100] Epoch 27/100 - Train Acc: 0.9994, Test Acc: 0.2605\n",
      "[CIFAR100] Epoch 28/100 - Train Acc: 0.9942, Test Acc: 0.2435\n",
      "[CIFAR100] Epoch 29/100 - Train Acc: 0.8798, Test Acc: 0.2155\n",
      "[CIFAR100] Epoch 30/100 - Train Acc: 0.8847, Test Acc: 0.2235\n",
      "[CIFAR100] Epoch 31/100 - Train Acc: 0.9506, Test Acc: 0.2290\n",
      "[CIFAR100] Epoch 32/100 - Train Acc: 0.9829, Test Acc: 0.2315\n",
      "[CIFAR100] Epoch 33/100 - Train Acc: 0.9908, Test Acc: 0.2470\n",
      "[CIFAR100] Epoch 34/100 - Train Acc: 0.9958, Test Acc: 0.2450\n",
      "[CIFAR100] Epoch 35/100 - Train Acc: 0.9990, Test Acc: 0.2515\n",
      "[CIFAR100] Epoch 36/100 - Train Acc: 0.9996, Test Acc: 0.2525\n",
      "[CIFAR100] Epoch 37/100 - Train Acc: 0.9999, Test Acc: 0.2535\n",
      "[CIFAR100] Epoch 38/100 - Train Acc: 0.9997, Test Acc: 0.2600\n",
      "[CIFAR100] Epoch 39/100 - Train Acc: 0.9998, Test Acc: 0.2605\n",
      "[CIFAR100] Epoch 40/100 - Train Acc: 0.9998, Test Acc: 0.2605\n",
      "[CIFAR100] Epoch 41/100 - Train Acc: 0.9999, Test Acc: 0.2595\n",
      "[CIFAR100] Epoch 42/100 - Train Acc: 0.9999, Test Acc: 0.2620\n",
      "[CIFAR100] Epoch 43/100 - Train Acc: 0.9999, Test Acc: 0.2585\n",
      "[CIFAR100] Epoch 44/100 - Train Acc: 0.9999, Test Acc: 0.2570\n",
      "[CIFAR100] Epoch 45/100 - Train Acc: 0.9997, Test Acc: 0.2585\n",
      "[CIFAR100] Epoch 46/100 - Train Acc: 0.9998, Test Acc: 0.2575\n",
      "[CIFAR100] Epoch 47/100 - Train Acc: 0.9999, Test Acc: 0.2595\n",
      "[CIFAR100] Epoch 48/100 - Train Acc: 0.9999, Test Acc: 0.2605\n",
      "[CIFAR100] Epoch 49/100 - Train Acc: 0.9999, Test Acc: 0.2565\n",
      "[CIFAR100] Epoch 50/100 - Train Acc: 0.9999, Test Acc: 0.2565\n",
      "[CIFAR100] Epoch 51/100 - Train Acc: 0.9999, Test Acc: 0.2620\n",
      "[CIFAR100] Epoch 52/100 - Train Acc: 0.9998, Test Acc: 0.2555\n",
      "[CIFAR100] Epoch 53/100 - Train Acc: 0.9999, Test Acc: 0.2590\n",
      "[CIFAR100] Epoch 54/100 - Train Acc: 0.9993, Test Acc: 0.2555\n",
      "[CIFAR100] Epoch 55/100 - Train Acc: 0.9237, Test Acc: 0.2035\n",
      "[CIFAR100] Epoch 56/100 - Train Acc: 0.8292, Test Acc: 0.2200\n",
      "[CIFAR100] Epoch 57/100 - Train Acc: 0.9306, Test Acc: 0.2305\n",
      "[CIFAR100] Epoch 58/100 - Train Acc: 0.9728, Test Acc: 0.2290\n",
      "[CIFAR100] Epoch 59/100 - Train Acc: 0.9925, Test Acc: 0.2380\n",
      "[CIFAR100] Epoch 60/100 - Train Acc: 0.9967, Test Acc: 0.2340\n",
      "[CIFAR100] Epoch 61/100 - Train Acc: 0.9985, Test Acc: 0.2430\n",
      "[CIFAR100] Epoch 62/100 - Train Acc: 0.9994, Test Acc: 0.2460\n",
      "[CIFAR100] Epoch 63/100 - Train Acc: 0.9998, Test Acc: 0.2500\n",
      "[CIFAR100] Epoch 64/100 - Train Acc: 0.9998, Test Acc: 0.2485\n",
      "[CIFAR100] Epoch 65/100 - Train Acc: 0.9999, Test Acc: 0.2500\n",
      "[CIFAR100] Epoch 66/100 - Train Acc: 0.9999, Test Acc: 0.2515\n",
      "[CIFAR100] Epoch 67/100 - Train Acc: 0.9999, Test Acc: 0.2475\n",
      "[CIFAR100] Epoch 68/100 - Train Acc: 0.9998, Test Acc: 0.2490\n",
      "[CIFAR100] Epoch 69/100 - Train Acc: 0.9998, Test Acc: 0.2510\n",
      "[CIFAR100] Epoch 70/100 - Train Acc: 0.9999, Test Acc: 0.2525\n",
      "[CIFAR100] Epoch 71/100 - Train Acc: 0.9998, Test Acc: 0.2510\n",
      "[CIFAR100] Epoch 72/100 - Train Acc: 0.9998, Test Acc: 0.2500\n",
      "[CIFAR100] Epoch 73/100 - Train Acc: 0.9999, Test Acc: 0.2485\n",
      "[CIFAR100] Epoch 74/100 - Train Acc: 0.9998, Test Acc: 0.2495\n",
      "[CIFAR100] Epoch 75/100 - Train Acc: 0.9999, Test Acc: 0.2465\n",
      "[CIFAR100] Epoch 76/100 - Train Acc: 0.9999, Test Acc: 0.2485\n",
      "[CIFAR100] Epoch 77/100 - Train Acc: 0.9999, Test Acc: 0.2490\n",
      "[CIFAR100] Epoch 78/100 - Train Acc: 0.9998, Test Acc: 0.2430\n",
      "[CIFAR100] Epoch 79/100 - Train Acc: 0.9999, Test Acc: 0.2420\n",
      "[CIFAR100] Epoch 80/100 - Train Acc: 0.9999, Test Acc: 0.2455\n",
      "[CIFAR100] Epoch 81/100 - Train Acc: 0.9999, Test Acc: 0.2455\n",
      "[CIFAR100] Epoch 82/100 - Train Acc: 0.9999, Test Acc: 0.2465\n",
      "[CIFAR100] Epoch 83/100 - Train Acc: 0.9999, Test Acc: 0.2410\n",
      "[CIFAR100] Epoch 84/100 - Train Acc: 0.9998, Test Acc: 0.2475\n",
      "[CIFAR100] Epoch 85/100 - Train Acc: 0.9999, Test Acc: 0.2450\n",
      "[CIFAR100] Epoch 86/100 - Train Acc: 0.9998, Test Acc: 0.2455\n",
      "[CIFAR100] Epoch 87/100 - Train Acc: 0.9998, Test Acc: 0.2455\n",
      "[CIFAR100] Epoch 88/100 - Train Acc: 0.9999, Test Acc: 0.2465\n",
      "[CIFAR100] Epoch 89/100 - Train Acc: 0.9999, Test Acc: 0.2435\n",
      "[CIFAR100] Epoch 90/100 - Train Acc: 0.9998, Test Acc: 0.2435\n",
      "[CIFAR100] Epoch 91/100 - Train Acc: 0.9999, Test Acc: 0.2425\n",
      "[CIFAR100] Epoch 92/100 - Train Acc: 0.9998, Test Acc: 0.2450\n",
      "[CIFAR100] Epoch 93/100 - Train Acc: 0.9998, Test Acc: 0.2410\n",
      "[CIFAR100] Epoch 94/100 - Train Acc: 0.9998, Test Acc: 0.2455\n",
      "[CIFAR100] Epoch 95/100 - Train Acc: 0.9999, Test Acc: 0.2430\n",
      "[CIFAR100] Epoch 96/100 - Train Acc: 0.9999, Test Acc: 0.2415\n",
      "[CIFAR100] Epoch 97/100 - Train Acc: 0.9998, Test Acc: 0.2410\n",
      "[CIFAR100] Epoch 98/100 - Train Acc: 0.9999, Test Acc: 0.2420\n",
      "[CIFAR100] Epoch 99/100 - Train Acc: 0.9999, Test Acc: 0.2410\n",
      "[CIFAR100] Epoch 100/100 - Train Acc: 0.9998, Test Acc: 0.2430\n"
     ]
    },
    {
     "data": {
      "text/html": [],
      "text/plain": [
       "<IPython.core.display.HTML object>"
      ]
     },
     "metadata": {},
     "output_type": "display_data"
    },
    {
     "data": {
      "text/html": [
       "<br>    <style><br>        .wandb-row {<br>            display: flex;<br>            flex-direction: row;<br>            flex-wrap: wrap;<br>            justify-content: flex-start;<br>            width: 100%;<br>        }<br>        .wandb-col {<br>            display: flex;<br>            flex-direction: column;<br>            flex-basis: 100%;<br>            flex: 1;<br>            padding: 10px;<br>        }<br>    </style><br><div class=\"wandb-row\"><div class=\"wandb-col\"><h3>Run history:</h3><br/><table class=\"wandb\"><tr><td>epoch</td><td>▁▁▁▁▁▂▂▂▂▂▃▃▃▃▃▄▄▄▄▄▅▅▅▅▅▅▅▆▆▆▆▆▇▇▇▇▇███</td></tr><tr><td>test_acc</td><td>▁▅█▇▆███▇▄████████▅▆▇▇▇▇▇▇▇▇▇▇▇▇▇▆▇▇▇▇▆▆</td></tr><tr><td>test_loss</td><td>▂▁▁▁▁▄▄▄▅▆▆▅▅▆▆▆▆▇▇▇▇▇▇▇▇▆▆▇▇▇▇▇▇▇▇█████</td></tr><tr><td>train_acc</td><td>▁▂▄▄▆▇███████████████████▇▇█████████████</td></tr><tr><td>train_loss</td><td>█▇▆▃▂▂▁▁▁▁▁▁▂▂▁▁▁▁▁▁▁▁▂▁▁▁▁▁▁▁▁▁▁▁▁▁▁▁▁▁</td></tr></table><br/></div><div class=\"wandb-col\"><h3>Run summary:</h3><br/><table class=\"wandb\"><tr><td>epoch</td><td>100</td></tr><tr><td>test_acc</td><td>0.243</td></tr><tr><td>test_loss</td><td>9.98345</td></tr><tr><td>train_acc</td><td>0.9998</td></tr><tr><td>train_loss</td><td>0.00059</td></tr></table><br/></div></div>"
      ],
      "text/plain": [
       "<IPython.core.display.HTML object>"
      ]
     },
     "metadata": {},
     "output_type": "display_data"
    },
    {
     "data": {
      "text/html": [
       " View run <strong style=\"color:#cdcd00\">seq_CIFAR10_CIFAR100_part2_CIFAR100</strong> at: <a href='https://wandb.ai/142201020-indian-institute-of-technology-palakkad/CIFAR-sequential/runs/mshrmpki' target=\"_blank\">https://wandb.ai/142201020-indian-institute-of-technology-palakkad/CIFAR-sequential/runs/mshrmpki</a><br> View project at: <a href='https://wandb.ai/142201020-indian-institute-of-technology-palakkad/CIFAR-sequential' target=\"_blank\">https://wandb.ai/142201020-indian-institute-of-technology-palakkad/CIFAR-sequential</a><br>Synced 5 W&B file(s), 0 media file(s), 0 artifact file(s) and 0 other file(s)"
      ],
      "text/plain": [
       "<IPython.core.display.HTML object>"
      ]
     },
     "metadata": {},
     "output_type": "display_data"
    },
    {
     "data": {
      "text/html": [
       "Find logs at: <code>./wandb/run-20251013_203651-mshrmpki/logs</code>"
      ],
      "text/plain": [
       "<IPython.core.display.HTML object>"
      ]
     },
     "metadata": {},
     "output_type": "display_data"
    }
   ],
   "source": [
    "sequential_training([\"CIFAR10\", \"CIFAR100\"], epochs=100)"
   ]
  },
  {
   "cell_type": "code",
   "execution_count": null,
   "id": "a4d78590",
   "metadata": {},
   "outputs": [],
   "source": []
  }
 ],
 "metadata": {
  "kernelspec": {
   "display_name": "jupyterenv (3.12.3)",
   "language": "python",
   "name": "python3"
  },
  "language_info": {
   "codemirror_mode": {
    "name": "ipython",
    "version": 3
   },
   "file_extension": ".py",
   "mimetype": "text/x-python",
   "name": "python",
   "nbconvert_exporter": "python",
   "pygments_lexer": "ipython3",
   "version": "3.12.3"
  }
 },
 "nbformat": 4,
 "nbformat_minor": 5
}
